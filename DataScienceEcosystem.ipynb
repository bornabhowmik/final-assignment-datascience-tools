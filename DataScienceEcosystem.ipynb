{
 "cells": [
  {
   "cell_type": "markdown",
   "id": "abe7c094",
   "metadata": {},
   "source": [
    "# Data Science Tools and Ecosystem"
   ]
  },
  {
   "cell_type": "markdown",
   "id": "5c0b0878",
   "metadata": {},
   "source": [
    "In this notebook, Data Science Tools and Ecosystem are summarized."
   ]
  },
  {
   "cell_type": "markdown",
   "id": "30a2cfb0",
   "metadata": {},
   "source": [
    "Some of the commonly used libraries used by Data Scientists include:\n",
    "\n",
    "1. Python\n",
    "2. R\n",
    "3. SQL\n",
    "4. Julia\n",
    "5. Scala"
   ]
  },
  {
   "cell_type": "markdown",
   "id": "113f446c",
   "metadata": {},
   "source": [
    "Some of the commonly used libraries used by Data Scientists include:\n",
    "\n",
    "1. NumPy\n",
    "2. Pandas\n",
    "3. Matplotlib\n",
    "4. Scikit-learn\n",
    "5. TensorFlow"
   ]
  },
  {
   "cell_type": "markdown",
   "id": "883a94e5",
   "metadata": {},
   "source": [
    "# Data Science Tools\n",
    "\n",
    "1. Jupyter Notebook\n",
    "2. RStudio\n",
    "3. Apache Zeppelin"
   ]
  },
  {
   "cell_type": "markdown",
   "id": "278ee847",
   "metadata": {},
   "source": [
    "### Below are a few examples of evaluting arithmetic expression in Python."
   ]
  },
  {
   "cell_type": "code",
   "execution_count": null,
   "id": "1ef020ee",
   "metadata": {},
   "outputs": [
    {
     "data": {
      "text/plain": [
       "17"
      ]
     },
     "execution_count": 3,
     "metadata": {},
     "output_type": "execute_result"
    }
   ],
   "source": [
    "# This a simple arithmetic expression to mutiply then add integers.\n",
    "(3*4)+5"
   ]
  },
  {
   "cell_type": "code",
   "execution_count": null,
   "id": "1dfbfb40",
   "metadata": {},
   "outputs": [
    {
     "data": {
      "text/plain": [
       "3.3333333333333335"
      ]
     },
     "execution_count": 2,
     "metadata": {},
     "output_type": "execute_result"
    }
   ],
   "source": [
    "# This a simplemarithmetic expression to mutiply then add integers.\n",
    "200 / 60"
   ]
  },
  {
   "cell_type": "markdown",
   "id": "73aa55e9",
   "metadata": {},
   "source": [
    "# Objectives:\n",
    "\n",
    " - List populer language for Data Science\n",
    " - Lisr commonly used libraries in Data Sciene\n",
    " - Creatwe tables using markdown \n",
    " - Perfrom arithmetic operations using Python code\n",
    " - Convert units using Pyton expressions\n",
    "\n"
   ]
  },
  {
   "cell_type": "markdown",
   "id": "9e5d4c97",
   "metadata": {},
   "source": [
    "## Author\n",
    "\n",
    "Borna Rani Bhowmik"
   ]
  }
 ],
 "metadata": {
  "kernelspec": {
   "display_name": "Python 3",
   "language": "python",
   "name": "python3"
  },
  "language_info": {
   "codemirror_mode": {
    "name": "ipython",
    "version": 3
   },
   "file_extension": ".py",
   "mimetype": "text/x-python",
   "name": "python",
   "nbconvert_exporter": "python",
   "pygments_lexer": "ipython3",
   "version": "3.13.2"
  }
 },
 "nbformat": 4,
 "nbformat_minor": 5
}
